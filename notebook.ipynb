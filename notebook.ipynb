{
 "cells": [
  {
   "cell_type": "code",
   "execution_count": null,
   "metadata": {},
   "outputs": [],
   "source": []
  },
  {
   "cell_type": "code",
   "execution_count": 1,
   "metadata": {},
   "outputs": [
    {
     "name": "stdout",
     "output_type": "stream",
     "text": [
      "[0. 0. 0. 0. 1. 0. 0. 0. 0.]\n",
      "4\n",
      "[0 0 0 0 1 0 0 0 0]\n",
      "[0.  0.  0.  0.  0.  0.  0.  0.  0.5]\n",
      "8\n",
      "[0 0 0 0 0 0 0 0 1]\n",
      "[0.5 0.  0.  0.  0.  0.  0.  0.  0. ]\n",
      "0\n",
      "[1 0 0 0 0 0 0 0 0]\n",
      "[0.   0.25 0.75 0.   0.   0.   0.   0.   0.  ]\n",
      "2\n",
      "[0 0 1 0 0 0 0 0 0]\n",
      "[0.   0.   0.   0.   0.   0.   0.75 0.25 0.  ]\n",
      "6\n",
      "[0 0 0 0 0 0 1 0 0]\n",
      "[0. 0. 0. 1. 0. 0. 0. 0. 0.]\n",
      "3\n",
      "[0 0 0 1 0 0 0 0 0]\n"
     ]
    }
   ],
   "source": [
    "import test\n",
    "test.testPil()"
   ]
  }
 ],
 "metadata": {
  "interpreter": {
   "hash": "b39b49c31eb567d815c61af0376b4353fc254ca713c1690c1820d41325ce7fb1"
  },
  "kernelspec": {
   "display_name": "Python 3.10.4 64-bit",
   "language": "python",
   "name": "python3"
  },
  "language_info": {
   "codemirror_mode": {
    "name": "ipython",
    "version": 3
   },
   "file_extension": ".py",
   "mimetype": "text/x-python",
   "name": "python",
   "nbconvert_exporter": "python",
   "pygments_lexer": "ipython3",
   "version": "3.10.4"
  },
  "orig_nbformat": 4
 },
 "nbformat": 4,
 "nbformat_minor": 2
}
